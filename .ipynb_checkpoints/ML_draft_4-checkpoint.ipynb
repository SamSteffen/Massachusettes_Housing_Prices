{
 "cells": [
  {
   "cell_type": "code",
   "execution_count": 1,
   "id": "aaa8f48b",
   "metadata": {},
   "outputs": [],
   "source": [
    "# import dependencies\n",
    "from sklearn.preprocessing import StandardScaler\n",
    "import pandas as pd\n",
    "import numpy as np\n",
    "import matplotlib.pyplot as plt\n",
    "from pathlib import Path\n",
    "from sklearn.model_selection import train_test_split\n",
    "from collections import Counter\n",
    "from sklearn.metrics import balanced_accuracy_score\n",
    "from sklearn.metrics import confusion_matrix\n",
    "# from imblearn.metrics import classification_report_imbalanced\n",
    "from sklearn.linear_model import LinearRegression\n",
    "\n",
    "%matplotlib inline"
   ]
  },
  {
   "cell_type": "code",
   "execution_count": 2,
   "id": "ec15fb9a",
   "metadata": {},
   "outputs": [],
   "source": [
    "HouseDF = pd.read_csv(Path('./Resources/MergedCSV_sql_FLOAT.csv'))"
   ]
  },
  {
   "cell_type": "code",
   "execution_count": 3,
   "id": "1dc91251",
   "metadata": {},
   "outputs": [
    {
     "data": {
      "text/html": [
       "<div>\n",
       "<style scoped>\n",
       "    .dataframe tbody tr th:only-of-type {\n",
       "        vertical-align: middle;\n",
       "    }\n",
       "\n",
       "    .dataframe tbody tr th {\n",
       "        vertical-align: top;\n",
       "    }\n",
       "\n",
       "    .dataframe thead th {\n",
       "        text-align: right;\n",
       "    }\n",
       "</style>\n",
       "<table border=\"1\" class=\"dataframe\">\n",
       "  <thead>\n",
       "    <tr style=\"text-align: right;\">\n",
       "      <th></th>\n",
       "      <th>Unnamed: 0</th>\n",
       "      <th>abbreviatedaddress</th>\n",
       "      <th>city</th>\n",
       "      <th>zipcode</th>\n",
       "      <th>latitude</th>\n",
       "      <th>longitude</th>\n",
       "      <th>bathrooms</th>\n",
       "      <th>bedrooms</th>\n",
       "      <th>lotsize</th>\n",
       "      <th>date_sold</th>\n",
       "      <th>price</th>\n",
       "      <th>zestimate</th>\n",
       "      <th>avg_income</th>\n",
       "    </tr>\n",
       "  </thead>\n",
       "  <tbody>\n",
       "    <tr>\n",
       "      <th>0</th>\n",
       "      <td>0</td>\n",
       "      <td>4008 SE Kelly St</td>\n",
       "      <td>Portland</td>\n",
       "      <td>97202</td>\n",
       "      <td>45.499569</td>\n",
       "      <td>-122.621201</td>\n",
       "      <td>1</td>\n",
       "      <td>2</td>\n",
       "      <td>4356</td>\n",
       "      <td>5/20/2021</td>\n",
       "      <td>535000</td>\n",
       "      <td>550300</td>\n",
       "      <td>39879.0</td>\n",
       "    </tr>\n",
       "    <tr>\n",
       "      <th>1</th>\n",
       "      <td>1</td>\n",
       "      <td>6936 SE 28th Ave</td>\n",
       "      <td>Portland</td>\n",
       "      <td>97202</td>\n",
       "      <td>45.473526</td>\n",
       "      <td>-122.634125</td>\n",
       "      <td>2</td>\n",
       "      <td>4</td>\n",
       "      <td>4791</td>\n",
       "      <td>8/16/2020</td>\n",
       "      <td>775000</td>\n",
       "      <td>874600</td>\n",
       "      <td>39879.0</td>\n",
       "    </tr>\n",
       "    <tr>\n",
       "      <th>2</th>\n",
       "      <td>2</td>\n",
       "      <td>1515 SE Claybourne St</td>\n",
       "      <td>Portland</td>\n",
       "      <td>97202</td>\n",
       "      <td>45.475349</td>\n",
       "      <td>-122.650620</td>\n",
       "      <td>1</td>\n",
       "      <td>2</td>\n",
       "      <td>5227</td>\n",
       "      <td>5/4/2021</td>\n",
       "      <td>521000</td>\n",
       "      <td>539700</td>\n",
       "      <td>39879.0</td>\n",
       "    </tr>\n",
       "    <tr>\n",
       "      <th>3</th>\n",
       "      <td>3</td>\n",
       "      <td>7941 SE 36th Ave</td>\n",
       "      <td>Portland</td>\n",
       "      <td>97202</td>\n",
       "      <td>45.465736</td>\n",
       "      <td>-122.626526</td>\n",
       "      <td>3</td>\n",
       "      <td>4</td>\n",
       "      <td>6098</td>\n",
       "      <td>12/13/2020</td>\n",
       "      <td>830000</td>\n",
       "      <td>903000</td>\n",
       "      <td>39879.0</td>\n",
       "    </tr>\n",
       "    <tr>\n",
       "      <th>4</th>\n",
       "      <td>4</td>\n",
       "      <td>6908 SE Cesar E Chavez Blvd</td>\n",
       "      <td>Portland</td>\n",
       "      <td>97202</td>\n",
       "      <td>45.473179</td>\n",
       "      <td>-122.622284</td>\n",
       "      <td>2</td>\n",
       "      <td>3</td>\n",
       "      <td>6969</td>\n",
       "      <td>8/11/2020</td>\n",
       "      <td>525000</td>\n",
       "      <td>598800</td>\n",
       "      <td>39879.0</td>\n",
       "    </tr>\n",
       "  </tbody>\n",
       "</table>\n",
       "</div>"
      ],
      "text/plain": [
       "   Unnamed: 0           abbreviatedaddress      city  zipcode   latitude  \\\n",
       "0           0             4008 SE Kelly St  Portland    97202  45.499569   \n",
       "1           1             6936 SE 28th Ave  Portland    97202  45.473526   \n",
       "2           2        1515 SE Claybourne St  Portland    97202  45.475349   \n",
       "3           3             7941 SE 36th Ave  Portland    97202  45.465736   \n",
       "4           4  6908 SE Cesar E Chavez Blvd  Portland    97202  45.473179   \n",
       "\n",
       "    longitude  bathrooms  bedrooms  lotsize   date_sold   price  zestimate  \\\n",
       "0 -122.621201          1         2     4356   5/20/2021  535000     550300   \n",
       "1 -122.634125          2         4     4791   8/16/2020  775000     874600   \n",
       "2 -122.650620          1         2     5227    5/4/2021  521000     539700   \n",
       "3 -122.626526          3         4     6098  12/13/2020  830000     903000   \n",
       "4 -122.622284          2         3     6969   8/11/2020  525000     598800   \n",
       "\n",
       "   avg_income  \n",
       "0     39879.0  \n",
       "1     39879.0  \n",
       "2     39879.0  \n",
       "3     39879.0  \n",
       "4     39879.0  "
      ]
     },
     "execution_count": 3,
     "metadata": {},
     "output_type": "execute_result"
    }
   ],
   "source": [
    "HouseDF.head()"
   ]
  },
  {
   "cell_type": "code",
   "execution_count": null,
   "id": "a319aef6",
   "metadata": {},
   "outputs": [],
   "source": [
    "# possibly add in lat, long, and encoded categories"
   ]
  },
  {
   "cell_type": "code",
   "execution_count": 4,
   "id": "67a409e4",
   "metadata": {},
   "outputs": [
    {
     "data": {
      "text/html": [
       "<div>\n",
       "<style scoped>\n",
       "    .dataframe tbody tr th:only-of-type {\n",
       "        vertical-align: middle;\n",
       "    }\n",
       "\n",
       "    .dataframe tbody tr th {\n",
       "        vertical-align: top;\n",
       "    }\n",
       "\n",
       "    .dataframe thead th {\n",
       "        text-align: right;\n",
       "    }\n",
       "</style>\n",
       "<table border=\"1\" class=\"dataframe\">\n",
       "  <thead>\n",
       "    <tr style=\"text-align: right;\">\n",
       "      <th></th>\n",
       "      <th>zipcode</th>\n",
       "      <th>bathrooms</th>\n",
       "      <th>bedrooms</th>\n",
       "      <th>lotsize</th>\n",
       "      <th>avg_income</th>\n",
       "      <th>price</th>\n",
       "    </tr>\n",
       "  </thead>\n",
       "  <tbody>\n",
       "    <tr>\n",
       "      <th>0</th>\n",
       "      <td>97202</td>\n",
       "      <td>1</td>\n",
       "      <td>2</td>\n",
       "      <td>4356</td>\n",
       "      <td>39879.0</td>\n",
       "      <td>535000</td>\n",
       "    </tr>\n",
       "    <tr>\n",
       "      <th>1</th>\n",
       "      <td>97202</td>\n",
       "      <td>2</td>\n",
       "      <td>4</td>\n",
       "      <td>4791</td>\n",
       "      <td>39879.0</td>\n",
       "      <td>775000</td>\n",
       "    </tr>\n",
       "    <tr>\n",
       "      <th>2</th>\n",
       "      <td>97202</td>\n",
       "      <td>1</td>\n",
       "      <td>2</td>\n",
       "      <td>5227</td>\n",
       "      <td>39879.0</td>\n",
       "      <td>521000</td>\n",
       "    </tr>\n",
       "    <tr>\n",
       "      <th>3</th>\n",
       "      <td>97202</td>\n",
       "      <td>3</td>\n",
       "      <td>4</td>\n",
       "      <td>6098</td>\n",
       "      <td>39879.0</td>\n",
       "      <td>830000</td>\n",
       "    </tr>\n",
       "    <tr>\n",
       "      <th>4</th>\n",
       "      <td>97202</td>\n",
       "      <td>2</td>\n",
       "      <td>3</td>\n",
       "      <td>6969</td>\n",
       "      <td>39879.0</td>\n",
       "      <td>525000</td>\n",
       "    </tr>\n",
       "  </tbody>\n",
       "</table>\n",
       "</div>"
      ],
      "text/plain": [
       "   zipcode  bathrooms  bedrooms  lotsize  avg_income   price\n",
       "0    97202          1         2     4356     39879.0  535000\n",
       "1    97202          2         4     4791     39879.0  775000\n",
       "2    97202          1         2     5227     39879.0  521000\n",
       "3    97202          3         4     6098     39879.0  830000\n",
       "4    97202          2         3     6969     39879.0  525000"
      ]
     },
     "execution_count": 4,
     "metadata": {},
     "output_type": "execute_result"
    }
   ],
   "source": [
    "House_FT_df = pd.DataFrame(data=HouseDF, columns=['zipcode', 'bathrooms', 'bedrooms', 'lotsize', 'avg_income', 'price'])\n",
    "House_FT_df.head()"
   ]
  },
  {
   "cell_type": "code",
   "execution_count": 14,
   "id": "97a175dc",
   "metadata": {},
   "outputs": [
    {
     "data": {
      "text/html": [
       "<div>\n",
       "<style scoped>\n",
       "    .dataframe tbody tr th:only-of-type {\n",
       "        vertical-align: middle;\n",
       "    }\n",
       "\n",
       "    .dataframe tbody tr th {\n",
       "        vertical-align: top;\n",
       "    }\n",
       "\n",
       "    .dataframe thead th {\n",
       "        text-align: right;\n",
       "    }\n",
       "</style>\n",
       "<table border=\"1\" class=\"dataframe\">\n",
       "  <thead>\n",
       "    <tr style=\"text-align: right;\">\n",
       "      <th></th>\n",
       "      <th>zipcode</th>\n",
       "      <th>bathrooms</th>\n",
       "      <th>bedrooms</th>\n",
       "      <th>lotsize</th>\n",
       "      <th>avg_income</th>\n",
       "      <th>price</th>\n",
       "    </tr>\n",
       "  </thead>\n",
       "  <tbody>\n",
       "    <tr>\n",
       "      <th>count</th>\n",
       "      <td>5853.000000</td>\n",
       "      <td>5853.000000</td>\n",
       "      <td>5853.000000</td>\n",
       "      <td>5.853000e+03</td>\n",
       "      <td>5853.000000</td>\n",
       "      <td>5.853000e+03</td>\n",
       "    </tr>\n",
       "    <tr>\n",
       "      <th>mean</th>\n",
       "      <td>97217.857509</td>\n",
       "      <td>2.490518</td>\n",
       "      <td>3.430207</td>\n",
       "      <td>4.463486e+04</td>\n",
       "      <td>49129.098240</td>\n",
       "      <td>6.149140e+05</td>\n",
       "    </tr>\n",
       "    <tr>\n",
       "      <th>std</th>\n",
       "      <td>8.690304</td>\n",
       "      <td>0.983869</td>\n",
       "      <td>0.938537</td>\n",
       "      <td>2.728182e+06</td>\n",
       "      <td>11572.849252</td>\n",
       "      <td>4.318443e+05</td>\n",
       "    </tr>\n",
       "    <tr>\n",
       "      <th>min</th>\n",
       "      <td>97202.000000</td>\n",
       "      <td>0.000000</td>\n",
       "      <td>0.000000</td>\n",
       "      <td>0.000000e+00</td>\n",
       "      <td>38040.000000</td>\n",
       "      <td>3.000000e+02</td>\n",
       "    </tr>\n",
       "    <tr>\n",
       "      <th>25%</th>\n",
       "      <td>97211.000000</td>\n",
       "      <td>2.000000</td>\n",
       "      <td>3.000000</td>\n",
       "      <td>4.791000e+03</td>\n",
       "      <td>39879.000000</td>\n",
       "      <td>4.824650e+05</td>\n",
       "    </tr>\n",
       "    <tr>\n",
       "      <th>50%</th>\n",
       "      <td>97219.000000</td>\n",
       "      <td>3.000000</td>\n",
       "      <td>3.000000</td>\n",
       "      <td>5.662000e+03</td>\n",
       "      <td>46558.000000</td>\n",
       "      <td>5.650000e+05</td>\n",
       "    </tr>\n",
       "    <tr>\n",
       "      <th>75%</th>\n",
       "      <td>97224.000000</td>\n",
       "      <td>3.000000</td>\n",
       "      <td>4.000000</td>\n",
       "      <td>8.712000e+03</td>\n",
       "      <td>58461.000000</td>\n",
       "      <td>6.900000e+05</td>\n",
       "    </tr>\n",
       "    <tr>\n",
       "      <th>max</th>\n",
       "      <td>97229.000000</td>\n",
       "      <td>10.000000</td>\n",
       "      <td>10.000000</td>\n",
       "      <td>2.087221e+08</td>\n",
       "      <td>70082.000000</td>\n",
       "      <td>2.550000e+07</td>\n",
       "    </tr>\n",
       "  </tbody>\n",
       "</table>\n",
       "</div>"
      ],
      "text/plain": [
       "            zipcode    bathrooms     bedrooms       lotsize    avg_income  \\\n",
       "count   5853.000000  5853.000000  5853.000000  5.853000e+03   5853.000000   \n",
       "mean   97217.857509     2.490518     3.430207  4.463486e+04  49129.098240   \n",
       "std        8.690304     0.983869     0.938537  2.728182e+06  11572.849252   \n",
       "min    97202.000000     0.000000     0.000000  0.000000e+00  38040.000000   \n",
       "25%    97211.000000     2.000000     3.000000  4.791000e+03  39879.000000   \n",
       "50%    97219.000000     3.000000     3.000000  5.662000e+03  46558.000000   \n",
       "75%    97224.000000     3.000000     4.000000  8.712000e+03  58461.000000   \n",
       "max    97229.000000    10.000000    10.000000  2.087221e+08  70082.000000   \n",
       "\n",
       "              price  \n",
       "count  5.853000e+03  \n",
       "mean   6.149140e+05  \n",
       "std    4.318443e+05  \n",
       "min    3.000000e+02  \n",
       "25%    4.824650e+05  \n",
       "50%    5.650000e+05  \n",
       "75%    6.900000e+05  \n",
       "max    2.550000e+07  "
      ]
     },
     "execution_count": 14,
     "metadata": {},
     "output_type": "execute_result"
    }
   ],
   "source": [
    "# There's a 0 count for min on bathrooms and bedrooms, needs to be dropped? \n",
    "House_FT_df.describe()"
   ]
  },
  {
   "cell_type": "code",
   "execution_count": null,
   "id": "dc9fa3e0",
   "metadata": {},
   "outputs": [],
   "source": [
    "# drop values with zero for bedrooms and bath\n",
    "# House_FT_df = House_FT_df.loc[House_FT_scaled_df['bathrooms'] == 0]\n",
    "# House_FT_df = "
   ]
  },
  {
   "cell_type": "code",
   "execution_count": 5,
   "id": "225d04d4",
   "metadata": {},
   "outputs": [],
   "source": [
    "# scale all data\n",
    "scaler = StandardScaler()\n",
    "scaler.fit(House_FT_df)\n",
    "scaled_data = scaler.transform(House_FT_df)"
   ]
  },
  {
   "cell_type": "code",
   "execution_count": 6,
   "id": "31cbdd5d",
   "metadata": {},
   "outputs": [
    {
     "data": {
      "text/html": [
       "<div>\n",
       "<style scoped>\n",
       "    .dataframe tbody tr th:only-of-type {\n",
       "        vertical-align: middle;\n",
       "    }\n",
       "\n",
       "    .dataframe tbody tr th {\n",
       "        vertical-align: top;\n",
       "    }\n",
       "\n",
       "    .dataframe thead th {\n",
       "        text-align: right;\n",
       "    }\n",
       "</style>\n",
       "<table border=\"1\" class=\"dataframe\">\n",
       "  <thead>\n",
       "    <tr style=\"text-align: right;\">\n",
       "      <th></th>\n",
       "      <th>zipcode</th>\n",
       "      <th>bathrooms</th>\n",
       "      <th>bedrooms</th>\n",
       "      <th>lotsize</th>\n",
       "      <th>avg_income</th>\n",
       "      <th>price</th>\n",
       "    </tr>\n",
       "  </thead>\n",
       "  <tbody>\n",
       "    <tr>\n",
       "      <th>0</th>\n",
       "      <td>-1.824892</td>\n",
       "      <td>-1.515085</td>\n",
       "      <td>-1.523999</td>\n",
       "      <td>-0.014765</td>\n",
       "      <td>-0.799361</td>\n",
       "      <td>-0.185069</td>\n",
       "    </tr>\n",
       "    <tr>\n",
       "      <th>1</th>\n",
       "      <td>-1.824892</td>\n",
       "      <td>-0.498603</td>\n",
       "      <td>0.607160</td>\n",
       "      <td>-0.014606</td>\n",
       "      <td>-0.799361</td>\n",
       "      <td>0.370735</td>\n",
       "    </tr>\n",
       "    <tr>\n",
       "      <th>2</th>\n",
       "      <td>-1.824892</td>\n",
       "      <td>-1.515085</td>\n",
       "      <td>-1.523999</td>\n",
       "      <td>-0.014446</td>\n",
       "      <td>-0.799361</td>\n",
       "      <td>-0.217490</td>\n",
       "    </tr>\n",
       "    <tr>\n",
       "      <th>3</th>\n",
       "      <td>-1.824892</td>\n",
       "      <td>0.517880</td>\n",
       "      <td>0.607160</td>\n",
       "      <td>-0.014127</td>\n",
       "      <td>-0.799361</td>\n",
       "      <td>0.498106</td>\n",
       "    </tr>\n",
       "    <tr>\n",
       "      <th>4</th>\n",
       "      <td>-1.824892</td>\n",
       "      <td>-0.498603</td>\n",
       "      <td>-0.458420</td>\n",
       "      <td>-0.013807</td>\n",
       "      <td>-0.799361</td>\n",
       "      <td>-0.208227</td>\n",
       "    </tr>\n",
       "  </tbody>\n",
       "</table>\n",
       "</div>"
      ],
      "text/plain": [
       "    zipcode  bathrooms  bedrooms   lotsize  avg_income     price\n",
       "0 -1.824892  -1.515085 -1.523999 -0.014765   -0.799361 -0.185069\n",
       "1 -1.824892  -0.498603  0.607160 -0.014606   -0.799361  0.370735\n",
       "2 -1.824892  -1.515085 -1.523999 -0.014446   -0.799361 -0.217490\n",
       "3 -1.824892   0.517880  0.607160 -0.014127   -0.799361  0.498106\n",
       "4 -1.824892  -0.498603 -0.458420 -0.013807   -0.799361 -0.208227"
      ]
     },
     "execution_count": 6,
     "metadata": {},
     "output_type": "execute_result"
    }
   ],
   "source": [
    "#create dataframe with scaled data\n",
    "House_FT_scaled_df = pd.DataFrame(scaled_data, columns=House_FT_df.columns)\n",
    "\n",
    "# view scaled data\n",
    "House_FT_scaled_df.head()"
   ]
  },
  {
   "cell_type": "code",
   "execution_count": 7,
   "id": "16493dfc",
   "metadata": {},
   "outputs": [
    {
     "data": {
      "image/png": "[encoded data removed]",
      "text/plain": [
       "<Figure size 432x288 with 1 Axes>"
      ]
     },
     "metadata": {
      "needs_background": "light"
     },
     "output_type": "display_data"
    }
   ],
   "source": [
    "# plot all data (boxplot)\n",
    "boxplot = House_FT_scaled_df.boxplot()"
   ]
  },
  {
   "cell_type": "code",
   "execution_count": 8,
   "id": "960c57e2",
   "metadata": {},
   "outputs": [
    {
     "data": {
      "text/html": [
       "<div>\n",
       "<style scoped>\n",
       "    .dataframe tbody tr th:only-of-type {\n",
       "        vertical-align: middle;\n",
       "    }\n",
       "\n",
       "    .dataframe tbody tr th {\n",
       "        vertical-align: top;\n",
       "    }\n",
       "\n",
       "    .dataframe thead th {\n",
       "        text-align: right;\n",
       "    }\n",
       "</style>\n",
       "<table border=\"1\" class=\"dataframe\">\n",
       "  <thead>\n",
       "    <tr style=\"text-align: right;\">\n",
       "      <th></th>\n",
       "      <th>zipcode</th>\n",
       "      <th>bathrooms</th>\n",
       "      <th>bedrooms</th>\n",
       "      <th>lotsize</th>\n",
       "      <th>avg_income</th>\n",
       "      <th>price</th>\n",
       "    </tr>\n",
       "  </thead>\n",
       "  <tbody>\n",
       "    <tr>\n",
       "      <th>count</th>\n",
       "      <td>5.853000e+03</td>\n",
       "      <td>5.853000e+03</td>\n",
       "      <td>5.853000e+03</td>\n",
       "      <td>5.853000e+03</td>\n",
       "      <td>5.853000e+03</td>\n",
       "      <td>5.853000e+03</td>\n",
       "    </tr>\n",
       "    <tr>\n",
       "      <th>mean</th>\n",
       "      <td>4.703191e-13</td>\n",
       "      <td>-9.899859e-15</td>\n",
       "      <td>-4.249690e-15</td>\n",
       "      <td>-1.321644e-16</td>\n",
       "      <td>7.834802e-15</td>\n",
       "      <td>-8.376465e-17</td>\n",
       "    </tr>\n",
       "    <tr>\n",
       "      <th>std</th>\n",
       "      <td>1.000085e+00</td>\n",
       "      <td>1.000085e+00</td>\n",
       "      <td>1.000085e+00</td>\n",
       "      <td>1.000085e+00</td>\n",
       "      <td>1.000085e+00</td>\n",
       "      <td>1.000085e+00</td>\n",
       "    </tr>\n",
       "    <tr>\n",
       "      <th>min</th>\n",
       "      <td>-1.824892e+00</td>\n",
       "      <td>-2.531568e+00</td>\n",
       "      <td>-3.655158e+00</td>\n",
       "      <td>-1.636206e-02</td>\n",
       "      <td>-9.582814e-01</td>\n",
       "      <td>-1.423352e+00</td>\n",
       "    </tr>\n",
       "    <tr>\n",
       "      <th>25%</th>\n",
       "      <td>-7.891663e-01</td>\n",
       "      <td>-4.986026e-01</td>\n",
       "      <td>-4.584195e-01</td>\n",
       "      <td>-1.460579e-02</td>\n",
       "      <td>-7.993614e-01</td>\n",
       "      <td>-3.067316e-01</td>\n",
       "    </tr>\n",
       "    <tr>\n",
       "      <th>50%</th>\n",
       "      <td>1.314786e-01</td>\n",
       "      <td>5.178798e-01</td>\n",
       "      <td>-4.584195e-01</td>\n",
       "      <td>-1.428651e-02</td>\n",
       "      <td>-2.221854e-01</td>\n",
       "      <td>-1.155931e-01</td>\n",
       "    </tr>\n",
       "    <tr>\n",
       "      <th>75%</th>\n",
       "      <td>7.068816e-01</td>\n",
       "      <td>5.178798e-01</td>\n",
       "      <td>6.071601e-01</td>\n",
       "      <td>-1.316845e-02</td>\n",
       "      <td>8.064305e-01</td>\n",
       "      <td>1.738878e-01</td>\n",
       "    </tr>\n",
       "    <tr>\n",
       "      <th>max</th>\n",
       "      <td>1.282285e+00</td>\n",
       "      <td>7.633257e+00</td>\n",
       "      <td>7.000638e+00</td>\n",
       "      <td>7.649611e+01</td>\n",
       "      <td>1.810677e+00</td>\n",
       "      <td>5.763006e+01</td>\n",
       "    </tr>\n",
       "  </tbody>\n",
       "</table>\n",
       "</div>"
      ],
      "text/plain": [
       "            zipcode     bathrooms      bedrooms       lotsize    avg_income  \\\n",
       "count  5.853000e+03  5.853000e+03  5.853000e+03  5.853000e+03  5.853000e+03   \n",
       "mean   4.703191e-13 -9.899859e-15 -4.249690e-15 -1.321644e-16  7.834802e-15   \n",
       "std    1.000085e+00  1.000085e+00  1.000085e+00  1.000085e+00  1.000085e+00   \n",
       "min   -1.824892e+00 -2.531568e+00 -3.655158e+00 -1.636206e-02 -9.582814e-01   \n",
       "25%   -7.891663e-01 -4.986026e-01 -4.584195e-01 -1.460579e-02 -7.993614e-01   \n",
       "50%    1.314786e-01  5.178798e-01 -4.584195e-01 -1.428651e-02 -2.221854e-01   \n",
       "75%    7.068816e-01  5.178798e-01  6.071601e-01 -1.316845e-02  8.064305e-01   \n",
       "max    1.282285e+00  7.633257e+00  7.000638e+00  7.649611e+01  1.810677e+00   \n",
       "\n",
       "              price  \n",
       "count  5.853000e+03  \n",
       "mean  -8.376465e-17  \n",
       "std    1.000085e+00  \n",
       "min   -1.423352e+00  \n",
       "25%   -3.067316e-01  \n",
       "50%   -1.155931e-01  \n",
       "75%    1.738878e-01  \n",
       "max    5.763006e+01  "
      ]
     },
     "execution_count": 8,
     "metadata": {},
     "output_type": "execute_result"
    }
   ],
   "source": [
    "# get description\n",
    "House_FT_scaled_df.describe()"
   ]
  },
  {
   "cell_type": "code",
   "execution_count": 9,
   "id": "3b6da41d",
   "metadata": {},
   "outputs": [
    {
     "data": {
      "text/html": [
       "<div>\n",
       "<style scoped>\n",
       "    .dataframe tbody tr th:only-of-type {\n",
       "        vertical-align: middle;\n",
       "    }\n",
       "\n",
       "    .dataframe tbody tr th {\n",
       "        vertical-align: top;\n",
       "    }\n",
       "\n",
       "    .dataframe thead th {\n",
       "        text-align: right;\n",
       "    }\n",
       "</style>\n",
       "<table border=\"1\" class=\"dataframe\">\n",
       "  <thead>\n",
       "    <tr style=\"text-align: right;\">\n",
       "      <th></th>\n",
       "      <th>zipcode</th>\n",
       "      <th>bathrooms</th>\n",
       "      <th>bedrooms</th>\n",
       "      <th>lotsize</th>\n",
       "      <th>avg_income</th>\n",
       "      <th>price</th>\n",
       "    </tr>\n",
       "  </thead>\n",
       "  <tbody>\n",
       "    <tr>\n",
       "      <th>0</th>\n",
       "      <td>-1.824892</td>\n",
       "      <td>-1.515085</td>\n",
       "      <td>-1.523999</td>\n",
       "      <td>-0.014765</td>\n",
       "      <td>-0.799361</td>\n",
       "      <td>-0.185069</td>\n",
       "    </tr>\n",
       "    <tr>\n",
       "      <th>1</th>\n",
       "      <td>-1.824892</td>\n",
       "      <td>-0.498603</td>\n",
       "      <td>0.607160</td>\n",
       "      <td>-0.014606</td>\n",
       "      <td>-0.799361</td>\n",
       "      <td>0.370735</td>\n",
       "    </tr>\n",
       "    <tr>\n",
       "      <th>2</th>\n",
       "      <td>-1.824892</td>\n",
       "      <td>-1.515085</td>\n",
       "      <td>-1.523999</td>\n",
       "      <td>-0.014446</td>\n",
       "      <td>-0.799361</td>\n",
       "      <td>-0.217490</td>\n",
       "    </tr>\n",
       "    <tr>\n",
       "      <th>3</th>\n",
       "      <td>-1.824892</td>\n",
       "      <td>0.517880</td>\n",
       "      <td>0.607160</td>\n",
       "      <td>-0.014127</td>\n",
       "      <td>-0.799361</td>\n",
       "      <td>0.498106</td>\n",
       "    </tr>\n",
       "    <tr>\n",
       "      <th>4</th>\n",
       "      <td>-1.824892</td>\n",
       "      <td>-0.498603</td>\n",
       "      <td>-0.458420</td>\n",
       "      <td>-0.013807</td>\n",
       "      <td>-0.799361</td>\n",
       "      <td>-0.208227</td>\n",
       "    </tr>\n",
       "  </tbody>\n",
       "</table>\n",
       "</div>"
      ],
      "text/plain": [
       "    zipcode  bathrooms  bedrooms   lotsize  avg_income     price\n",
       "0 -1.824892  -1.515085 -1.523999 -0.014765   -0.799361 -0.185069\n",
       "1 -1.824892  -0.498603  0.607160 -0.014606   -0.799361  0.370735\n",
       "2 -1.824892  -1.515085 -1.523999 -0.014446   -0.799361 -0.217490\n",
       "3 -1.824892   0.517880  0.607160 -0.014127   -0.799361  0.498106\n",
       "4 -1.824892  -0.498603 -0.458420 -0.013807   -0.799361 -0.208227"
      ]
     },
     "execution_count": 9,
     "metadata": {},
     "output_type": "execute_result"
    }
   ],
   "source": [
    "# drop outlier\n",
    "House_FT_scaled_df = House_FT_scaled_df.loc[House_FT_scaled_df['lotsize'] < 7]\n",
    "House_FT_scaled_df.head()"
   ]
  },
  {
   "cell_type": "code",
   "execution_count": 10,
   "id": "0a66e771",
   "metadata": {},
   "outputs": [
    {
     "data": {
      "image/png": "[encoded data removed]",
      "text/plain": [
       "<Figure size 432x288 with 1 Axes>"
      ]
     },
     "metadata": {
      "needs_background": "light"
     },
     "output_type": "display_data"
    }
   ],
   "source": [
    "# plot all data again to see outliers\n",
    "boxplot = House_FT_scaled_df.boxplot()"
   ]
  },
  {
   "cell_type": "code",
   "execution_count": 11,
   "id": "51f1f7e8",
   "metadata": {},
   "outputs": [
    {
     "data": {
      "text/plain": [
       "zipcode       5852\n",
       "bathrooms     5852\n",
       "bedrooms      5852\n",
       "lotsize       5852\n",
       "avg_income    5852\n",
       "price         5852\n",
       "dtype: int64"
      ]
     },
     "execution_count": 11,
     "metadata": {},
     "output_type": "execute_result"
    }
   ],
   "source": [
    "# check row count\n",
    "House_FT_scaled_df.count()"
   ]
  },
  {
   "cell_type": "code",
   "execution_count": 12,
   "id": "c4c66b11",
   "metadata": {},
   "outputs": [
    {
     "data": {
      "text/html": [
       "<div>\n",
       "<style scoped>\n",
       "    .dataframe tbody tr th:only-of-type {\n",
       "        vertical-align: middle;\n",
       "    }\n",
       "\n",
       "    .dataframe tbody tr th {\n",
       "        vertical-align: top;\n",
       "    }\n",
       "\n",
       "    .dataframe thead th {\n",
       "        text-align: right;\n",
       "    }\n",
       "</style>\n",
       "<table border=\"1\" class=\"dataframe\">\n",
       "  <thead>\n",
       "    <tr style=\"text-align: right;\">\n",
       "      <th></th>\n",
       "      <th>zipcode</th>\n",
       "      <th>bathrooms</th>\n",
       "      <th>bedrooms</th>\n",
       "      <th>lotsize</th>\n",
       "      <th>avg_income</th>\n",
       "      <th>price</th>\n",
       "    </tr>\n",
       "  </thead>\n",
       "  <tbody>\n",
       "    <tr>\n",
       "      <th>0</th>\n",
       "      <td>-1.824892</td>\n",
       "      <td>-1.515085</td>\n",
       "      <td>-1.523999</td>\n",
       "      <td>-0.014765</td>\n",
       "      <td>-0.799361</td>\n",
       "      <td>-0.185069</td>\n",
       "    </tr>\n",
       "    <tr>\n",
       "      <th>1</th>\n",
       "      <td>-1.824892</td>\n",
       "      <td>-0.498603</td>\n",
       "      <td>0.607160</td>\n",
       "      <td>-0.014606</td>\n",
       "      <td>-0.799361</td>\n",
       "      <td>0.370735</td>\n",
       "    </tr>\n",
       "    <tr>\n",
       "      <th>2</th>\n",
       "      <td>-1.824892</td>\n",
       "      <td>-1.515085</td>\n",
       "      <td>-1.523999</td>\n",
       "      <td>-0.014446</td>\n",
       "      <td>-0.799361</td>\n",
       "      <td>-0.217490</td>\n",
       "    </tr>\n",
       "    <tr>\n",
       "      <th>3</th>\n",
       "      <td>-1.824892</td>\n",
       "      <td>0.517880</td>\n",
       "      <td>0.607160</td>\n",
       "      <td>-0.014127</td>\n",
       "      <td>-0.799361</td>\n",
       "      <td>0.498106</td>\n",
       "    </tr>\n",
       "    <tr>\n",
       "      <th>4</th>\n",
       "      <td>-1.824892</td>\n",
       "      <td>-0.498603</td>\n",
       "      <td>-0.458420</td>\n",
       "      <td>-0.013807</td>\n",
       "      <td>-0.799361</td>\n",
       "      <td>-0.208227</td>\n",
       "    </tr>\n",
       "  </tbody>\n",
       "</table>\n",
       "</div>"
      ],
      "text/plain": [
       "    zipcode  bathrooms  bedrooms   lotsize  avg_income     price\n",
       "0 -1.824892  -1.515085 -1.523999 -0.014765   -0.799361 -0.185069\n",
       "1 -1.824892  -0.498603  0.607160 -0.014606   -0.799361  0.370735\n",
       "2 -1.824892  -1.515085 -1.523999 -0.014446   -0.799361 -0.217490\n",
       "3 -1.824892   0.517880  0.607160 -0.014127   -0.799361  0.498106\n",
       "4 -1.824892  -0.498603 -0.458420 -0.013807   -0.799361 -0.208227"
      ]
     },
     "execution_count": 12,
     "metadata": {},
     "output_type": "execute_result"
    }
   ],
   "source": [
    "# drop outlier in price column\n",
    "House_FT_scaled_df = House_FT_scaled_df.loc[House_FT_scaled_df['price'] < 57]\n",
    "House_FT_scaled_df.head()"
   ]
  },
  {
   "cell_type": "code",
   "execution_count": 13,
   "id": "c91162f4",
   "metadata": {},
   "outputs": [
    {
     "data": {
      "image/png": "[encoded data removed]",
      "text/plain": [
       "<Figure size 432x288 with 1 Axes>"
      ]
     },
     "metadata": {
      "needs_background": "light"
     },
     "output_type": "display_data"
    }
   ],
   "source": [
    "# plot all data again to see outliers\n",
    "boxplot = House_FT_scaled_df.boxplot()"
   ]
  },
  {
   "cell_type": "code",
   "execution_count": 32,
   "id": "0e64dc90",
   "metadata": {
    "scrolled": true
   },
   "outputs": [
    {
     "data": {
      "text/plain": [
       "zipcode       5851\n",
       "bathrooms     5851\n",
       "bedrooms      5851\n",
       "lotsize       5851\n",
       "avg_income    5851\n",
       "price         5851\n",
       "dtype: int64"
      ]
     },
     "execution_count": 32,
     "metadata": {},
     "output_type": "execute_result"
    }
   ],
   "source": [
    "# check row count\n",
    "House_FT_scaled_df.count()"
   ]
  },
  {
   "cell_type": "code",
   "execution_count": 34,
   "id": "72fbea2f",
   "metadata": {},
   "outputs": [],
   "source": [
    "# split into target and features \n",
    "X = pd.DataFrame(data=House_FT_scaled_df, columns=['zipcode', 'bathrooms', 'bedrooms', 'lotsize', 'avg_income'])\n",
    "y = pd.DataFrame(data=House_FT_scaled_df, columns=['price'])"
   ]
  },
  {
   "cell_type": "code",
   "execution_count": 39,
   "id": "f6a717cb",
   "metadata": {},
   "outputs": [],
   "source": [
    "X_train, X_test, y_train, y_test = train_test_split(X, y, random_state=1)\n"
   ]
  },
  {
   "cell_type": "code",
   "execution_count": 41,
   "id": "dee365e8",
   "metadata": {},
   "outputs": [
    {
     "data": {
      "text/html": [
       "<style>#sk-container-id-2 {color: black;background-color: white;}#sk-container-id-2 pre{padding: 0;}#sk-container-id-2 div.sk-toggleable {background-color: white;}#sk-container-id-2 label.sk-toggleable__label {cursor: pointer;display: block;width: 100%;margin-bottom: 0;padding: 0.3em;box-sizing: border-box;text-align: center;}#sk-container-id-2 label.sk-toggleable__label-arrow:before {content: \"▸\";float: left;margin-right: 0.25em;color: #696969;}#sk-container-id-2 label.sk-toggleable__label-arrow:hover:before {color: black;}#sk-container-id-2 div.sk-estimator:hover label.sk-toggleable__label-arrow:before {color: black;}#sk-container-id-2 div.sk-toggleable__content {max-height: 0;max-width: 0;overflow: hidden;text-align: left;background-color: #f0f8ff;}#sk-container-id-2 div.sk-toggleable__content pre {margin: 0.2em;color: black;border-radius: 0.25em;background-color: #f0f8ff;}#sk-container-id-2 input.sk-toggleable__control:checked~div.sk-toggleable__content {max-height: 200px;max-width: 100%;overflow: auto;}#sk-container-id-2 input.sk-toggleable__control:checked~label.sk-toggleable__label-arrow:before {content: \"▾\";}#sk-container-id-2 div.sk-estimator input.sk-toggleable__control:checked~label.sk-toggleable__label {background-color: #d4ebff;}#sk-container-id-2 div.sk-label input.sk-toggleable__control:checked~label.sk-toggleable__label {background-color: #d4ebff;}#sk-container-id-2 input.sk-hidden--visually {border: 0;clip: rect(1px 1px 1px 1px);clip: rect(1px, 1px, 1px, 1px);height: 1px;margin: -1px;overflow: hidden;padding: 0;position: absolute;width: 1px;}#sk-container-id-2 div.sk-estimator {font-family: monospace;background-color: #f0f8ff;border: 1px dotted black;border-radius: 0.25em;box-sizing: border-box;margin-bottom: 0.5em;}#sk-container-id-2 div.sk-estimator:hover {background-color: #d4ebff;}#sk-container-id-2 div.sk-parallel-item::after {content: \"\";width: 100%;border-bottom: 1px solid gray;flex-grow: 1;}#sk-container-id-2 div.sk-label:hover label.sk-toggleable__label {background-color: #d4ebff;}#sk-container-id-2 div.sk-serial::before {content: \"\";position: absolute;border-left: 1px solid gray;box-sizing: border-box;top: 0;bottom: 0;left: 50%;z-index: 0;}#sk-container-id-2 div.sk-serial {display: flex;flex-direction: column;align-items: center;background-color: white;padding-right: 0.2em;padding-left: 0.2em;position: relative;}#sk-container-id-2 div.sk-item {position: relative;z-index: 1;}#sk-container-id-2 div.sk-parallel {display: flex;align-items: stretch;justify-content: center;background-color: white;position: relative;}#sk-container-id-2 div.sk-item::before, #sk-container-id-2 div.sk-parallel-item::before {content: \"\";position: absolute;border-left: 1px solid gray;box-sizing: border-box;top: 0;bottom: 0;left: 50%;z-index: -1;}#sk-container-id-2 div.sk-parallel-item {display: flex;flex-direction: column;z-index: 1;position: relative;background-color: white;}#sk-container-id-2 div.sk-parallel-item:first-child::after {align-self: flex-end;width: 50%;}#sk-container-id-2 div.sk-parallel-item:last-child::after {align-self: flex-start;width: 50%;}#sk-container-id-2 div.sk-parallel-item:only-child::after {width: 0;}#sk-container-id-2 div.sk-dashed-wrapped {border: 1px dashed gray;margin: 0 0.4em 0.5em 0.4em;box-sizing: border-box;padding-bottom: 0.4em;background-color: white;}#sk-container-id-2 div.sk-label label {font-family: monospace;font-weight: bold;display: inline-block;line-height: 1.2em;}#sk-container-id-2 div.sk-label-container {text-align: center;}#sk-container-id-2 div.sk-container {/* jupyter's `normalize.less` sets `[hidden] { display: none; }` but bootstrap.min.css set `[hidden] { display: none !important; }` so we also need the `!important` here to be able to override the default hidden behavior on the sphinx rendered scikit-learn.org. See: https://github.com/scikit-learn/scikit-learn/issues/21755 */display: inline-block !important;position: relative;}#sk-container-id-2 div.sk-text-repr-fallback {display: none;}</style><div id=\"sk-container-id-2\" class=\"sk-top-container\"><div class=\"sk-text-repr-fallback\"><pre>LinearRegression()</pre><b>In a Jupyter environment, please rerun this cell to show the HTML representation or trust the notebook. <br />On GitHub, the HTML representation is unable to render, please try loading this page with nbviewer.org.</b></div><div class=\"sk-container\" hidden><div class=\"sk-item\"><div class=\"sk-estimator sk-toggleable\"><input class=\"sk-toggleable__control sk-hidden--visually\" id=\"sk-estimator-id-2\" type=\"checkbox\" checked><label for=\"sk-estimator-id-2\" class=\"sk-toggleable__label sk-toggleable__label-arrow\">LinearRegression</label><div class=\"sk-toggleable__content\"><pre>LinearRegression()</pre></div></div></div></div></div>"
      ],
      "text/plain": [
       "LinearRegression()"
      ]
     },
     "execution_count": 41,
     "metadata": {},
     "output_type": "execute_result"
    }
   ],
   "source": [
    "# instantiate model\n",
    "model = LinearRegression()\n",
    "model.fit(X_train, y_train)"
   ]
  },
  {
   "cell_type": "code",
   "execution_count": 42,
   "id": "a9efb598",
   "metadata": {},
   "outputs": [],
   "source": [
    "# run model\n",
    "y_pred = model.predict(X_test)"
   ]
  },
  {
   "cell_type": "code",
   "execution_count": 43,
   "id": "e3e4527a",
   "metadata": {},
   "outputs": [
    {
     "name": "stdout",
     "output_type": "stream",
     "text": [
      "(1463, 1)\n"
     ]
    }
   ],
   "source": [
    "# see resutls\n",
    "print(y_pred.shape)"
   ]
  },
  {
   "cell_type": "code",
   "execution_count": 44,
   "id": "3c765477",
   "metadata": {},
   "outputs": [
    {
     "ename": "ValueError",
     "evalue": "x and y must be the same size",
     "output_type": "error",
     "traceback": [
      "\u001b[1;31m---------------------------------------------------------------------------\u001b[0m",
      "\u001b[1;31mValueError\u001b[0m                                Traceback (most recent call last)",
      "Cell \u001b[1;32mIn [44], line 1\u001b[0m\n\u001b[1;32m----> 1\u001b[0m plt\u001b[38;5;241m.\u001b[39mscatter(X, y)\n\u001b[0;32m      2\u001b[0m plt\u001b[38;5;241m.\u001b[39mplot(X_test, y_pred, color\u001b[38;5;241m=\u001b[39m\u001b[38;5;124m'\u001b[39m\u001b[38;5;124mred\u001b[39m\u001b[38;5;124m'\u001b[39m)\n\u001b[0;32m      3\u001b[0m plt\u001b[38;5;241m.\u001b[39mshow()\n",
      "File \u001b[1;32m~\\anaconda3\\envs\\ul\\lib\\site-packages\\matplotlib\\pyplot.py:2778\u001b[0m, in \u001b[0;36mscatter\u001b[1;34m(x, y, s, c, marker, cmap, norm, vmin, vmax, alpha, linewidths, edgecolors, plotnonfinite, data, **kwargs)\u001b[0m\n\u001b[0;32m   2773\u001b[0m \u001b[38;5;129m@_copy_docstring_and_deprecators\u001b[39m(Axes\u001b[38;5;241m.\u001b[39mscatter)\n\u001b[0;32m   2774\u001b[0m \u001b[38;5;28;01mdef\u001b[39;00m \u001b[38;5;21mscatter\u001b[39m(\n\u001b[0;32m   2775\u001b[0m         x, y, s\u001b[38;5;241m=\u001b[39m\u001b[38;5;28;01mNone\u001b[39;00m, c\u001b[38;5;241m=\u001b[39m\u001b[38;5;28;01mNone\u001b[39;00m, marker\u001b[38;5;241m=\u001b[39m\u001b[38;5;28;01mNone\u001b[39;00m, cmap\u001b[38;5;241m=\u001b[39m\u001b[38;5;28;01mNone\u001b[39;00m, norm\u001b[38;5;241m=\u001b[39m\u001b[38;5;28;01mNone\u001b[39;00m,\n\u001b[0;32m   2776\u001b[0m         vmin\u001b[38;5;241m=\u001b[39m\u001b[38;5;28;01mNone\u001b[39;00m, vmax\u001b[38;5;241m=\u001b[39m\u001b[38;5;28;01mNone\u001b[39;00m, alpha\u001b[38;5;241m=\u001b[39m\u001b[38;5;28;01mNone\u001b[39;00m, linewidths\u001b[38;5;241m=\u001b[39m\u001b[38;5;28;01mNone\u001b[39;00m, \u001b[38;5;241m*\u001b[39m,\n\u001b[0;32m   2777\u001b[0m         edgecolors\u001b[38;5;241m=\u001b[39m\u001b[38;5;28;01mNone\u001b[39;00m, plotnonfinite\u001b[38;5;241m=\u001b[39m\u001b[38;5;28;01mFalse\u001b[39;00m, data\u001b[38;5;241m=\u001b[39m\u001b[38;5;28;01mNone\u001b[39;00m, \u001b[38;5;241m*\u001b[39m\u001b[38;5;241m*\u001b[39mkwargs):\n\u001b[1;32m-> 2778\u001b[0m     __ret \u001b[38;5;241m=\u001b[39m gca()\u001b[38;5;241m.\u001b[39mscatter(\n\u001b[0;32m   2779\u001b[0m         x, y, s\u001b[38;5;241m=\u001b[39ms, c\u001b[38;5;241m=\u001b[39mc, marker\u001b[38;5;241m=\u001b[39mmarker, cmap\u001b[38;5;241m=\u001b[39mcmap, norm\u001b[38;5;241m=\u001b[39mnorm,\n\u001b[0;32m   2780\u001b[0m         vmin\u001b[38;5;241m=\u001b[39mvmin, vmax\u001b[38;5;241m=\u001b[39mvmax, alpha\u001b[38;5;241m=\u001b[39malpha, linewidths\u001b[38;5;241m=\u001b[39mlinewidths,\n\u001b[0;32m   2781\u001b[0m         edgecolors\u001b[38;5;241m=\u001b[39medgecolors, plotnonfinite\u001b[38;5;241m=\u001b[39mplotnonfinite,\n\u001b[0;32m   2782\u001b[0m         \u001b[38;5;241m*\u001b[39m\u001b[38;5;241m*\u001b[39m({\u001b[38;5;124m\"\u001b[39m\u001b[38;5;124mdata\u001b[39m\u001b[38;5;124m\"\u001b[39m: data} \u001b[38;5;28;01mif\u001b[39;00m data \u001b[38;5;129;01mis\u001b[39;00m \u001b[38;5;129;01mnot\u001b[39;00m \u001b[38;5;28;01mNone\u001b[39;00m \u001b[38;5;28;01melse\u001b[39;00m {}), \u001b[38;5;241m*\u001b[39m\u001b[38;5;241m*\u001b[39mkwargs)\n\u001b[0;32m   2783\u001b[0m     sci(__ret)\n\u001b[0;32m   2784\u001b[0m     \u001b[38;5;28;01mreturn\u001b[39;00m __ret\n",
      "File \u001b[1;32m~\\anaconda3\\envs\\ul\\lib\\site-packages\\matplotlib\\__init__.py:1423\u001b[0m, in \u001b[0;36m_preprocess_data.<locals>.inner\u001b[1;34m(ax, data, *args, **kwargs)\u001b[0m\n\u001b[0;32m   1420\u001b[0m \u001b[38;5;129m@functools\u001b[39m\u001b[38;5;241m.\u001b[39mwraps(func)\n\u001b[0;32m   1421\u001b[0m \u001b[38;5;28;01mdef\u001b[39;00m \u001b[38;5;21minner\u001b[39m(ax, \u001b[38;5;241m*\u001b[39margs, data\u001b[38;5;241m=\u001b[39m\u001b[38;5;28;01mNone\u001b[39;00m, \u001b[38;5;241m*\u001b[39m\u001b[38;5;241m*\u001b[39mkwargs):\n\u001b[0;32m   1422\u001b[0m     \u001b[38;5;28;01mif\u001b[39;00m data \u001b[38;5;129;01mis\u001b[39;00m \u001b[38;5;28;01mNone\u001b[39;00m:\n\u001b[1;32m-> 1423\u001b[0m         \u001b[38;5;28;01mreturn\u001b[39;00m func(ax, \u001b[38;5;241m*\u001b[39m\u001b[38;5;28mmap\u001b[39m(sanitize_sequence, args), \u001b[38;5;241m*\u001b[39m\u001b[38;5;241m*\u001b[39mkwargs)\n\u001b[0;32m   1425\u001b[0m     bound \u001b[38;5;241m=\u001b[39m new_sig\u001b[38;5;241m.\u001b[39mbind(ax, \u001b[38;5;241m*\u001b[39margs, \u001b[38;5;241m*\u001b[39m\u001b[38;5;241m*\u001b[39mkwargs)\n\u001b[0;32m   1426\u001b[0m     auto_label \u001b[38;5;241m=\u001b[39m (bound\u001b[38;5;241m.\u001b[39marguments\u001b[38;5;241m.\u001b[39mget(label_namer)\n\u001b[0;32m   1427\u001b[0m                   \u001b[38;5;129;01mor\u001b[39;00m bound\u001b[38;5;241m.\u001b[39mkwargs\u001b[38;5;241m.\u001b[39mget(label_namer))\n",
      "File \u001b[1;32m~\\anaconda3\\envs\\ul\\lib\\site-packages\\matplotlib\\axes\\_axes.py:4512\u001b[0m, in \u001b[0;36mAxes.scatter\u001b[1;34m(self, x, y, s, c, marker, cmap, norm, vmin, vmax, alpha, linewidths, edgecolors, plotnonfinite, **kwargs)\u001b[0m\n\u001b[0;32m   4510\u001b[0m y \u001b[38;5;241m=\u001b[39m np\u001b[38;5;241m.\u001b[39mma\u001b[38;5;241m.\u001b[39mravel(y)\n\u001b[0;32m   4511\u001b[0m \u001b[38;5;28;01mif\u001b[39;00m x\u001b[38;5;241m.\u001b[39msize \u001b[38;5;241m!=\u001b[39m y\u001b[38;5;241m.\u001b[39msize:\n\u001b[1;32m-> 4512\u001b[0m     \u001b[38;5;28;01mraise\u001b[39;00m \u001b[38;5;167;01mValueError\u001b[39;00m(\u001b[38;5;124m\"\u001b[39m\u001b[38;5;124mx and y must be the same size\u001b[39m\u001b[38;5;124m\"\u001b[39m)\n\u001b[0;32m   4514\u001b[0m \u001b[38;5;28;01mif\u001b[39;00m s \u001b[38;5;129;01mis\u001b[39;00m \u001b[38;5;28;01mNone\u001b[39;00m:\n\u001b[0;32m   4515\u001b[0m     s \u001b[38;5;241m=\u001b[39m (\u001b[38;5;241m20\u001b[39m \u001b[38;5;28;01mif\u001b[39;00m mpl\u001b[38;5;241m.\u001b[39mrcParams[\u001b[38;5;124m'\u001b[39m\u001b[38;5;124m_internal.classic_mode\u001b[39m\u001b[38;5;124m'\u001b[39m] \u001b[38;5;28;01melse\u001b[39;00m\n\u001b[0;32m   4516\u001b[0m          mpl\u001b[38;5;241m.\u001b[39mrcParams[\u001b[38;5;124m'\u001b[39m\u001b[38;5;124mlines.markersize\u001b[39m\u001b[38;5;124m'\u001b[39m] \u001b[38;5;241m*\u001b[39m\u001b[38;5;241m*\u001b[39m \u001b[38;5;241m2.0\u001b[39m)\n",
      "\u001b[1;31mValueError\u001b[0m: x and y must be the same size"
     ]
    },
    {
     "data": {
      "image/png": "[encoded data removed]",
      "text/plain": [
       "<Figure size 640x480 with 1 Axes>"
      ]
     },
     "metadata": {},
     "output_type": "display_data"
    }
   ],
   "source": [
    "plt.scatter(X, y)\n",
    "plt.plot(X_test, y_pred, color='red')\n",
    "plt.show()"
   ]
  },
  {
   "cell_type": "code",
   "execution_count": null,
   "id": "8abbcd9b",
   "metadata": {},
   "outputs": [],
   "source": []
  }
 ],
 "metadata": {
  "kernelspec": {
   "display_name": "mlenv",
   "language": "python",
   "name": "mlenv"
  },
  "language_info": {
   "codemirror_mode": {
    "name": "ipython",
    "version": 3
   },
   "file_extension": ".py",
   "mimetype": "text/x-python",
   "name": "python",
   "nbconvert_exporter": "python",
   "pygments_lexer": "ipython3",
   "version": "3.9.12"
  }
 },
 "nbformat": 4,
 "nbformat_minor": 5
}
