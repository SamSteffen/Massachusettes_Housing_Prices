{
 "cells": [
  {
   "cell_type": "code",
   "execution_count": 1,
   "metadata": {},
   "outputs": [],
   "source": [
    "# Import dependencies\n",
    "\n",
    "# Basic libs\n",
    "import pandas as pd\n",
    "from pathlib import Path\n",
    "import numpy as np\n",
    "import warnings\n",
    "\n",
    "# Model Libs\n",
    "from sklearn import linear_model\n",
    "from sklearn.model_selection import train_test_split\n",
    "from sklearn.metrics import r2_score\n",
    "from scipy import stats\n",
    "import statsmodels.api as sm\n",
    "import statsmodels.formula.api as smf\n",
    "import statsmodels.stats.api as sms\n",
    "from statsmodels.compat import lzip\n",
    "\n",
    "# Viz Libs\n",
    "import matplotlib.pyplot as plt\n",
    "import seaborn as sns\n",
    "from mpl_toolkits.mplot3d import Axes3D\n"
   ]
  },
  {
   "cell_type": "code",
   "execution_count": 3,
   "metadata": {},
   "outputs": [],
   "source": [
    "warnings.filterwarnings('ignore')\n"
   ]
  },
  {
   "cell_type": "code",
   "execution_count": 4,
   "metadata": {},
   "outputs": [],
   "source": [
    "plt.rcParams['figure.figsize'] = (7,7)\n",
    "plt.style.use('ggplot')\n"
   ]
  },
  {
   "cell_type": "code",
   "execution_count": 5,
   "metadata": {},
   "outputs": [
    {
     "data": {
      "text/html": [
       "<div>\n",
       "<style scoped>\n",
       "    .dataframe tbody tr th:only-of-type {\n",
       "        vertical-align: middle;\n",
       "    }\n",
       "\n",
       "    .dataframe tbody tr th {\n",
       "        vertical-align: top;\n",
       "    }\n",
       "\n",
       "    .dataframe thead th {\n",
       "        text-align: right;\n",
       "    }\n",
       "</style>\n",
       "<table border=\"1\" class=\"dataframe\">\n",
       "  <thead>\n",
       "    <tr style=\"text-align: right;\">\n",
       "      <th></th>\n",
       "      <th>Unnamed: 0</th>\n",
       "      <th>address</th>\n",
       "      <th>city</th>\n",
       "      <th>zipcode</th>\n",
       "      <th>latitude</th>\n",
       "      <th>longitude</th>\n",
       "      <th>bathrooms</th>\n",
       "      <th>bedrooms</th>\n",
       "      <th>lotsize</th>\n",
       "      <th>date_sold</th>\n",
       "      <th>price</th>\n",
       "      <th>zestimate</th>\n",
       "      <th>median_income</th>\n",
       "    </tr>\n",
       "  </thead>\n",
       "  <tbody>\n",
       "    <tr>\n",
       "      <th>0</th>\n",
       "      <td>0</td>\n",
       "      <td>4008 SE Kelly St</td>\n",
       "      <td>Portland</td>\n",
       "      <td>97202</td>\n",
       "      <td>45.499569</td>\n",
       "      <td>-122.621201</td>\n",
       "      <td>1</td>\n",
       "      <td>2</td>\n",
       "      <td>4356</td>\n",
       "      <td>5/20/2021</td>\n",
       "      <td>535000</td>\n",
       "      <td>550300</td>\n",
       "      <td>39879.0</td>\n",
       "    </tr>\n",
       "    <tr>\n",
       "      <th>1</th>\n",
       "      <td>1</td>\n",
       "      <td>6936 SE 28th Ave</td>\n",
       "      <td>Portland</td>\n",
       "      <td>97202</td>\n",
       "      <td>45.473526</td>\n",
       "      <td>-122.634125</td>\n",
       "      <td>2</td>\n",
       "      <td>4</td>\n",
       "      <td>4791</td>\n",
       "      <td>8/16/2020</td>\n",
       "      <td>775000</td>\n",
       "      <td>874600</td>\n",
       "      <td>39879.0</td>\n",
       "    </tr>\n",
       "    <tr>\n",
       "      <th>2</th>\n",
       "      <td>2</td>\n",
       "      <td>1515 SE Claybourne St</td>\n",
       "      <td>Portland</td>\n",
       "      <td>97202</td>\n",
       "      <td>45.475349</td>\n",
       "      <td>-122.650620</td>\n",
       "      <td>1</td>\n",
       "      <td>2</td>\n",
       "      <td>5227</td>\n",
       "      <td>5/4/2021</td>\n",
       "      <td>521000</td>\n",
       "      <td>539700</td>\n",
       "      <td>39879.0</td>\n",
       "    </tr>\n",
       "    <tr>\n",
       "      <th>3</th>\n",
       "      <td>3</td>\n",
       "      <td>7941 SE 36th Ave</td>\n",
       "      <td>Portland</td>\n",
       "      <td>97202</td>\n",
       "      <td>45.465736</td>\n",
       "      <td>-122.626526</td>\n",
       "      <td>3</td>\n",
       "      <td>4</td>\n",
       "      <td>6098</td>\n",
       "      <td>12/13/2020</td>\n",
       "      <td>830000</td>\n",
       "      <td>903000</td>\n",
       "      <td>39879.0</td>\n",
       "    </tr>\n",
       "    <tr>\n",
       "      <th>4</th>\n",
       "      <td>4</td>\n",
       "      <td>6908 SE Cesar E Chavez Blvd</td>\n",
       "      <td>Portland</td>\n",
       "      <td>97202</td>\n",
       "      <td>45.473179</td>\n",
       "      <td>-122.622284</td>\n",
       "      <td>2</td>\n",
       "      <td>3</td>\n",
       "      <td>6969</td>\n",
       "      <td>8/11/2020</td>\n",
       "      <td>525000</td>\n",
       "      <td>598800</td>\n",
       "      <td>39879.0</td>\n",
       "    </tr>\n",
       "  </tbody>\n",
       "</table>\n",
       "</div>"
      ],
      "text/plain": [
       "   Unnamed: 0                      address      city  zipcode   latitude  \\\n",
       "0           0             4008 SE Kelly St  Portland    97202  45.499569   \n",
       "1           1             6936 SE 28th Ave  Portland    97202  45.473526   \n",
       "2           2        1515 SE Claybourne St  Portland    97202  45.475349   \n",
       "3           3             7941 SE 36th Ave  Portland    97202  45.465736   \n",
       "4           4  6908 SE Cesar E Chavez Blvd  Portland    97202  45.473179   \n",
       "\n",
       "    longitude  bathrooms  bedrooms  lotsize   date_sold   price  zestimate  \\\n",
       "0 -122.621201          1         2     4356   5/20/2021  535000     550300   \n",
       "1 -122.634125          2         4     4791   8/16/2020  775000     874600   \n",
       "2 -122.650620          1         2     5227    5/4/2021  521000     539700   \n",
       "3 -122.626526          3         4     6098  12/13/2020  830000     903000   \n",
       "4 -122.622284          2         3     6969   8/11/2020  525000     598800   \n",
       "\n",
       "   median_income  \n",
       "0        39879.0  \n",
       "1        39879.0  \n",
       "2        39879.0  \n",
       "3        39879.0  \n",
       "4        39879.0  "
      ]
     },
     "execution_count": 5,
     "metadata": {},
     "output_type": "execute_result"
    }
   ],
   "source": [
    "# import data\n",
    "df = pd.read_csv(Path('./Resources/MergedCSV_sql_FLOAT.csv'))\n",
    "df.head()\n"
   ]
  },
  {
   "cell_type": "code",
   "execution_count": 6,
   "metadata": {},
   "outputs": [
    {
     "data": {
      "text/plain": [
       "Unnamed: 0         int64\n",
       "address           object\n",
       "city              object\n",
       "zipcode            int64\n",
       "latitude         float64\n",
       "longitude        float64\n",
       "bathrooms          int64\n",
       "bedrooms           int64\n",
       "lotsize            int64\n",
       "date_sold         object\n",
       "price              int64\n",
       "zestimate          int64\n",
       "median_income    float64\n",
       "dtype: object"
      ]
     },
     "execution_count": 6,
     "metadata": {},
     "output_type": "execute_result"
    }
   ],
   "source": [
    "df.dtypes"
   ]
  },
  {
   "cell_type": "code",
   "execution_count": 7,
   "metadata": {},
   "outputs": [
    {
     "data": {
      "text/plain": [
       "Index(['Unnamed: 0', 'address', 'city', 'zipcode', 'latitude', 'longitude',\n",
       "       'bathrooms', 'bedrooms', 'lotsize', 'date_sold', 'price', 'zestimate',\n",
       "       'median_income'],\n",
       "      dtype='object')"
      ]
     },
     "execution_count": 7,
     "metadata": {},
     "output_type": "execute_result"
    }
   ],
   "source": [
    "# all column names\n",
    "df.columns\n"
   ]
  },
  {
   "cell_type": "markdown",
   "metadata": {},
   "source": [
    "## Data Prep"
   ]
  },
  {
   "cell_type": "code",
   "execution_count": 12,
   "metadata": {},
   "outputs": [],
   "source": [
    "#check shape of features and response variable\n",
    "\n",
    "features = ['zipcode', 'bathrooms', 'bedrooms', 'lotsize', 'median_income']\n",
    "target = 'price'\n",
    "\n",
    "X = df[features].values.reshape(-1, len(features))\n",
    "y = df[target].values\n"
   ]
  },
  {
   "cell_type": "code",
   "execution_count": 13,
   "metadata": {},
   "outputs": [
    {
     "name": "stdout",
     "output_type": "stream",
     "text": [
      "(5853, 5)\n",
      "(5853,)\n"
     ]
    }
   ],
   "source": [
    "print(X.shape)\n",
    "print(y.shape)\n"
   ]
  },
  {
   "cell_type": "code",
   "execution_count": 14,
   "metadata": {},
   "outputs": [],
   "source": [
    "# Create range for each dimension\n",
    "\n",
    "t = X[:,0]\n",
    "u = X[:,1]\n",
    "v = X[:,2]\n",
    "w = X[:,3]\n",
    "x = X[:,4]\n",
    "z = y\n"
   ]
  },
  {
   "cell_type": "code",
   "execution_count": null,
   "metadata": {},
   "outputs": [],
   "source": [
    "# Predict using model built on previous step\n",
    "\n",
    "tt_pred = np.linspace( , , ) #range of values\n"
   ]
  },
  {
   "cell_type": "code",
   "execution_count": 7,
   "metadata": {},
   "outputs": [],
   "source": [
    "# find regression coefficient and y-intercept- Note ols stands for Ordinary Least Squares\n",
    "# ols = linear_model.LinearRegression()\n",
    "# model = ols.fit(X,y)\n",
    "\n",
    "predicted = model.predict(model_viz)\n"
   ]
  },
  {
   "cell_type": "code",
   "execution_count": 8,
   "metadata": {},
   "outputs": [
    {
     "data": {
      "text/plain": [
       "array([-1.02345379e+04,  1.22157052e+05,  4.41687871e+04,  4.33964524e-04,\n",
       "        6.53320532e+00])"
      ]
     },
     "execution_count": 8,
     "metadata": {},
     "output_type": "execute_result"
    }
   ],
   "source": [
    "model.coef_"
   ]
  },
  {
   "cell_type": "code",
   "execution_count": 9,
   "metadata": {},
   "outputs": [
    {
     "data": {
      "text/plain": [
       "994818024.6130513"
      ]
     },
     "execution_count": 9,
     "metadata": {},
     "output_type": "execute_result"
    }
   ],
   "source": [
    "model.intercept_"
   ]
  },
  {
   "cell_type": "code",
   "execution_count": null,
   "metadata": {},
   "outputs": [],
   "source": [
    "# create scaler instance and fit it\n",
    "Scaler = StandardScaler()\n",
    "scaler.fit( DF_DATA )\n"
   ]
  },
  {
   "cell_type": "code",
   "execution_count": null,
   "metadata": {},
   "outputs": [],
   "source": [
    "# scale the data \n",
    "Scaled_data = scaler.transform( DF_DATA )\n"
   ]
  },
  {
   "cell_type": "code",
   "execution_count": null,
   "metadata": {},
   "outputs": [],
   "source": [
    "# Create dataframe with scaled data?\n",
    "transformed_scaled_data = pd.DataFrame(scaled_data, columns= DF_DATA .columns)\n",
    "transformed_scaled_data.head()"
   ]
  },
  {
   "cell_type": "markdown",
   "metadata": {},
   "source": [
    "Split train test\n",
    "use the standard 75/25?"
   ]
  },
  {
   "cell_type": "code",
   "execution_count": null,
   "metadata": {},
   "outputs": [],
   "source": [
    "# Split data into training and testing sets"
   ]
  },
  {
   "cell_type": "markdown",
   "metadata": {},
   "source": [
    "Instantiate Model\n",
    "which model will we use?\n",
    "multiple linear regression"
   ]
  },
  {
   "cell_type": "code",
   "execution_count": null,
   "metadata": {},
   "outputs": [],
   "source": [
    "# instantiate model"
   ]
  },
  {
   "cell_type": "code",
   "execution_count": null,
   "metadata": {},
   "outputs": [],
   "source": [
    "# fit model"
   ]
  },
  {
   "cell_type": "code",
   "execution_count": null,
   "metadata": {},
   "outputs": [],
   "source": [
    "# test model with test set data"
   ]
  },
  {
   "cell_type": "markdown",
   "metadata": {},
   "source": [
    "Get accuracy scores and summaries"
   ]
  },
  {
   "cell_type": "code",
   "execution_count": null,
   "metadata": {},
   "outputs": [],
   "source": []
  },
  {
   "cell_type": "code",
   "execution_count": null,
   "metadata": {},
   "outputs": [],
   "source": []
  }
 ],
 "metadata": {
  "kernelspec": {
   "display_name": "ul",
   "language": "python",
   "name": "ul"
  },
  "language_info": {
   "codemirror_mode": {
    "name": "ipython",
    "version": 3
   },
   "file_extension": ".py",
   "mimetype": "text/x-python",
   "name": "python",
   "nbconvert_exporter": "python",
   "pygments_lexer": "ipython3",
   "version": "3.10.6"
  }
 },
 "nbformat": 4,
 "nbformat_minor": 2
}
