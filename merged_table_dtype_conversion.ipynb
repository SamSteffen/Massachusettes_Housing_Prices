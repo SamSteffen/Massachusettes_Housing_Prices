{
 "cells": [
  {
   "cell_type": "code",
   "execution_count": 28,
   "metadata": {},
   "outputs": [],
   "source": [
    "# import dependencies\n",
    "import pandas as pd\n",
    "import csv\n",
    "import os\n",
    "import datetime as dt"
   ]
  },
  {
   "cell_type": "code",
   "execution_count": 29,
   "metadata": {},
   "outputs": [
    {
     "data": {
      "text/plain": [
       "abbreviatedaddress     object\n",
       "city                   object\n",
       "zipcode                 int64\n",
       "latitude              float64\n",
       "longitude             float64\n",
       "bathrooms               int64\n",
       "bedrooms                int64\n",
       "lotsize                 int64\n",
       "date_sold              object\n",
       "price                   int64\n",
       "zestimate               int64\n",
       "avg_income             object\n",
       "dtype: object"
      ]
     },
     "execution_count": 29,
     "metadata": {},
     "output_type": "execute_result"
    }
   ],
   "source": [
    "# read in the data for conversion\n",
    "file_path = 'C:/Users/ssteffen/desktop/Sam/Vanderbilt Boot Camp/MyRepo/Module 20_Final/US_Housing_Prices/Resources/mergedCSV_sql.csv'\n",
    "\n",
    "df = pd.read_csv(file_path)\n",
    "df.dtypes"
   ]
  },
  {
   "cell_type": "code",
   "execution_count": 30,
   "metadata": {},
   "outputs": [
    {
     "data": {
      "text/plain": [
       "Index(['abbreviatedaddress', 'city', 'zipcode', 'latitude', 'longitude',\n",
       "       'bathrooms', 'bedrooms', 'lotsize', 'date_sold', 'price', 'zestimate',\n",
       "       'avg_income'],\n",
       "      dtype='object')"
      ]
     },
     "execution_count": 30,
     "metadata": {},
     "output_type": "execute_result"
    }
   ],
   "source": [
    "# convert the datatypes\n",
    "df.columns"
   ]
  },
  {
   "cell_type": "code",
   "execution_count": 31,
   "metadata": {
    "scrolled": true
   },
   "outputs": [
    {
     "data": {
      "text/plain": [
       "abbreviatedaddress     object\n",
       "city                   object\n",
       "zipcode                 int64\n",
       "latitude              float64\n",
       "longitude             float64\n",
       "bathrooms               int64\n",
       "bedrooms                int64\n",
       "lotsize                 int64\n",
       "date_sold              object\n",
       "price                   int64\n",
       "zestimate               int64\n",
       "avg_income             object\n",
       "dtype: object"
      ]
     },
     "execution_count": 31,
     "metadata": {},
     "output_type": "execute_result"
    }
   ],
   "source": [
    "# convert the data to appropriate types\n",
    "df['abbreviatedaddress'] = df['abbreviatedaddress'].astype(str) \n",
    "df['city'] = df['city'].astype(str)\n",
    "df['avg_income'] = df['avg_income'].astype(str)\n",
    "df.dtypes"
   ]
  },
  {
   "cell_type": "code",
   "execution_count": 35,
   "metadata": {
    "scrolled": true
   },
   "outputs": [
    {
     "data": {
      "text/plain": [
       "abbreviatedaddress     object\n",
       "city                   object\n",
       "zipcode                 int64\n",
       "latitude              float64\n",
       "longitude             float64\n",
       "bathrooms               int64\n",
       "bedrooms                int64\n",
       "lotsize                 int64\n",
       "date_sold              object\n",
       "price                   int64\n",
       "zestimate               int64\n",
       "avg_income            float64\n",
       "dtype: object"
      ]
     },
     "execution_count": 35,
     "metadata": {},
     "output_type": "execute_result"
    }
   ],
   "source": [
    "df['avg_income'] = df['avg_income'].str.replace(\"$\",\"\").str.replace(\",\",\"\")\n",
    "df['avg_income'] = df['avg_income'].astype(float)"
   ]
  },
  {
   "cell_type": "code",
   "execution_count": 36,
   "metadata": {},
   "outputs": [],
   "source": [
    "#export the cleaned df\n",
    "df.to_csv('C:/Users/ssteffen/desktop/Sam/Vanderbilt Boot Camp/MyRepo/Module 20_Final/US_Housing_Prices/Resources/mergedCSV_sql_FLOAT.csv')"
   ]
  },
  {
   "cell_type": "code",
   "execution_count": null,
   "metadata": {},
   "outputs": [],
   "source": []
  }
 ],
 "metadata": {
  "kernelspec": {
   "display_name": "PythonData",
   "language": "python",
   "name": "pythondata"
  },
  "language_info": {
   "codemirror_mode": {
    "name": "ipython",
    "version": 3
   },
   "file_extension": ".py",
   "mimetype": "text/x-python",
   "name": "python",
   "nbconvert_exporter": "python",
   "pygments_lexer": "ipython3",
   "version": "3.6.8"
  }
 },
 "nbformat": 4,
 "nbformat_minor": 2
}
